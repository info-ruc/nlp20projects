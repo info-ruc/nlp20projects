{
 "cells": [
  {
   "cell_type": "code",
   "execution_count": null,
   "metadata": {},
   "outputs": [],
   "source": [
    "\"\"\"\n",
    "读入图片\n",
    "将image_id与图片以三通道数组形式存入images.json\n",
    "\"\"\"\n",
    "\n",
    "from skimage import io\n",
    "import os\n",
    "import json\n",
    "\n",
    "filepath = \"D:/大四/nlp/AI_Challenger2014/validation/images\"\n",
    "imglist = os.listdir(filepath)\n",
    "\n",
    "fp = open(\"D://大四//nlp//AI_Challenger2014//validation//images.json\",\"w\",encoding = \"utf8\")\n",
    "\n",
    "fp.write(\"{\")\n",
    "\n",
    "for imgid in imglist:\n",
    "    path = filepath + \"/\" + imgid\n",
    "    img = io.imread(path).tolist()\n",
    "    string = json.dumps(img)\n",
    "    fp.write(\"'\" + imgid + \"'\" + \":\")\n",
    "    fp.write(string)\n",
    "    \n",
    "fp.write(\"}\")\n",
    "\n",
    "fp.close()\n"
   ]
  },
  {
   "cell_type": "code",
   "execution_count": 2,
   "metadata": {},
   "outputs": [
    {
     "name": "stderr",
     "output_type": "stream",
     "text": [
      "Building prefix dict from the default dictionary ...\n",
      "Loading model from cache C:\\Users\\25396\\AppData\\Local\\Temp\\jieba.cache\n",
      "Loading model cost 0.750 seconds.\n",
      "Prefix dict has been built successfully.\n"
     ]
    }
   ],
   "source": [
    "\"\"\"\n",
    "读入annotation.json\n",
    "使用jieba分词\n",
    "分词结果存储为annotation_seg.json\n",
    "\"\"\"\n",
    "\n",
    "import json\n",
    "import jieba\n",
    "\n",
    "with open(\"D://大四//nlp//AI_Challenger2014//validation//annotations.json\",'r',encoding='utf8')as fp:\n",
    "    validjson = json.load(fp)\n",
    "\n",
    "for i in range(len(validjson)):\n",
    "    for j in range(len(validjson[i][\"caption\"])):\n",
    "        cut = jieba.cut(validjson[i][\"caption\"][j])\n",
    "        s = ' '.join(cut)\n",
    "        validjson[i][\"caption\"][j] = s\n",
    "\n",
    "string = json.dumps(validjson)\n",
    "with open(\"D://大四//nlp//AI_Challenger2014//validation//annotations_seg.json\",\"w\",encoding = \"utf8\") as fp:\n",
    "    fp.write(string)"
   ]
  },
  {
   "cell_type": "code",
   "execution_count": 3,
   "metadata": {},
   "outputs": [],
   "source": [
    "with open(\"D://大四//nlp//AI_Challenger2014//validation//annotations_seg.json\",'r',encoding='utf8')as fp:\n",
    "    valid_annotation = json.load(fp)"
   ]
  },
  {
   "cell_type": "code",
   "execution_count": 16,
   "metadata": {},
   "outputs": [
    {
     "data": {
      "text/plain": [
       "{'url': 'http://img5.cache.netease.com/photo/0005/2013-09-25/99LA1FC60B6P0005.jpg',\n",
       " 'image_id': '3cd32bef87ed98572bac868418521852ac3f6a70.jpg',\n",
       " 'caption': ['一个 双臂 抬起 的 运动员 跪 在 绿茵茵 的 球场上',\n",
       "  '一个 抬着 双臂 的 运动员 跪 在 足球场 上',\n",
       "  '一个 双手 握拳 的 男人 跪 在 绿茵茵 的 足球场 上',\n",
       "  '一个 抬起 双手 的 男人 跪 在 碧绿 的 球场上',\n",
       "  '一个 双手 握拳 的 运动员 跪 在 平坦 的 运动场 上']}"
      ]
     },
     "execution_count": 16,
     "metadata": {},
     "output_type": "execute_result"
    }
   ],
   "source": [
    "valid_annotation[0] "
   ]
  },
  {
   "cell_type": "code",
   "execution_count": null,
   "metadata": {},
   "outputs": [],
   "source": []
  }
 ],
 "metadata": {
  "kernelspec": {
   "display_name": "Python 3",
   "language": "python",
   "name": "python3"
  },
  "language_info": {
   "codemirror_mode": {
    "name": "ipython",
    "version": 3
   },
   "file_extension": ".py",
   "mimetype": "text/x-python",
   "name": "python",
   "nbconvert_exporter": "python",
   "pygments_lexer": "ipython3",
   "version": "3.7.7"
  }
 },
 "nbformat": 4,
 "nbformat_minor": 4
}
